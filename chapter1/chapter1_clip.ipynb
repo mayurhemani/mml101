{
 "cells": [
  {
   "cell_type": "markdown",
   "id": "d72090ca-efb3-49ef-a8a1-fd2ddb941894",
   "metadata": {
    "jp-MarkdownHeadingCollapsed": true
   },
   "source": [
    "## Import Stuff"
   ]
  },
  {
   "cell_type": "code",
   "execution_count": 2,
   "id": "cd6c368b-5e4c-4671-9384-63c673684b0a",
   "metadata": {},
   "outputs": [],
   "source": [
    "import torch\n",
    "import clip"
   ]
  },
  {
   "cell_type": "code",
   "execution_count": 105,
   "id": "6bd3c030-b51a-478b-b821-b3a789596a20",
   "metadata": {},
   "outputs": [],
   "source": [
    "import numpy as np"
   ]
  },
  {
   "cell_type": "code",
   "execution_count": 3,
   "id": "ce36b8e8-3dd7-4b7f-9610-1268845d728a",
   "metadata": {},
   "outputs": [],
   "source": [
    "from PIL import Image\n",
    "%matplotlib inline\n",
    "from matplotlib import pyplot as plt"
   ]
  },
  {
   "cell_type": "code",
   "execution_count": 64,
   "id": "78fb5efc-a79f-4854-9d04-fca2a62dd8be",
   "metadata": {},
   "outputs": [],
   "source": [
    "import inspect\n",
    "import functools\n",
    "import os"
   ]
  },
  {
   "cell_type": "markdown",
   "id": "fa6962ef-a584-40d9-b505-257caef04b8e",
   "metadata": {
    "jp-MarkdownHeadingCollapsed": true
   },
   "source": [
    "## Load model"
   ]
  },
  {
   "cell_type": "code",
   "execution_count": 8,
   "id": "9b7345a4-a558-4939-b85b-d5fd304e85c5",
   "metadata": {},
   "outputs": [],
   "source": [
    "model, preprocessor = clip.load(\"ViT-B/32\", device=\"cpu\")"
   ]
  },
  {
   "cell_type": "markdown",
   "id": "9ae83bd5-b0bb-4263-8555-4d8c0fab0494",
   "metadata": {
    "jp-MarkdownHeadingCollapsed": true
   },
   "source": [
    "### How did the load do it?"
   ]
  },
  {
   "cell_type": "code",
   "execution_count": 13,
   "id": "1377c53c-e8bb-4ab2-b227-6d16984686cf",
   "metadata": {},
   "outputs": [
    {
     "name": "stdout",
     "output_type": "stream",
     "text": [
      "def load(name: str, device: Union[str, torch.device] = \"cuda\" if torch.cuda.is_available() else \"cpu\", jit: bool = False, download_root: str = None):\n",
      "    \"\"\"Load a CLIP model\n",
      "\n",
      "    Parameters\n",
      "    ----------\n",
      "    name : str\n",
      "        A model name listed by `clip.available_models()`, or the path to a model checkpoint containing the state_dict\n",
      "\n",
      "    device : Union[str, torch.device]\n",
      "        The device to put the loaded model\n",
      "\n",
      "    jit : bool\n",
      "        Whether to load the optimized JIT model or more hackable non-JIT model (default).\n",
      "\n",
      "    download_root: str\n",
      "        path to download the model files; by default, it uses \"~/.cache/clip\"\n",
      "\n",
      "    Returns\n",
      "    -------\n",
      "    model : torch.nn.Module\n",
      "        The CLIP model\n",
      "\n",
      "    preprocess : Callable[[PIL.Image], torch.Tensor]\n",
      "        A torchvision transform that converts a PIL image into a tensor that the returned model can take as its input\n",
      "    \"\"\"\n",
      "    if name in _MODELS:\n",
      "        model_path = _download(_MODELS[name], download_root or os.path.expanduser(\"~/.cache/clip\"))\n",
      "    elif os.path.isfile(name):\n",
      "        model_path = name\n",
      "    else:\n",
      "        raise RuntimeError(f\"Model {name} not found; available models = {available_models()}\")\n",
      "\n",
      "    with open(model_path, 'rb') as opened_file:\n",
      "        try:\n",
      "            # loading JIT archive\n",
      "            model = torch.jit.load(opened_file, map_location=device if jit else \"cpu\").eval()\n",
      "            state_dict = None\n",
      "        except RuntimeError:\n",
      "            # loading saved state dict\n",
      "            if jit:\n",
      "                warnings.warn(f\"File {model_path} is not a JIT archive. Loading as a state dict instead\")\n",
      "                jit = False\n",
      "            state_dict = torch.load(opened_file, map_location=\"cpu\")\n",
      "\n",
      "    if not jit:\n",
      "        model = build_model(state_dict or model.state_dict()).to(device)\n",
      "        if str(device) == \"cpu\":\n",
      "            model.float()\n",
      "        return model, _transform(model.visual.input_resolution)\n",
      "\n",
      "    # patch the device names\n",
      "    device_holder = torch.jit.trace(lambda: torch.ones([]).to(torch.device(device)), example_inputs=[])\n",
      "    device_node = [n for n in device_holder.graph.findAllNodes(\"prim::Constant\") if \"Device\" in repr(n)][-1]\n",
      "\n",
      "    def _node_get(node: torch._C.Node, key: str):\n",
      "        \"\"\"Gets attributes of a node which is polymorphic over return type.\n",
      "        \n",
      "        From https://github.com/pytorch/pytorch/pull/82628\n",
      "        \"\"\"\n",
      "        sel = node.kindOf(key)\n",
      "        return getattr(node, sel)(key)\n",
      "\n",
      "    def patch_device(module):\n",
      "        try:\n",
      "            graphs = [module.graph] if hasattr(module, \"graph\") else []\n",
      "        except RuntimeError:\n",
      "            graphs = []\n",
      "\n",
      "        if hasattr(module, \"forward1\"):\n",
      "            graphs.append(module.forward1.graph)\n",
      "\n",
      "        for graph in graphs:\n",
      "            for node in graph.findAllNodes(\"prim::Constant\"):\n",
      "                if \"value\" in node.attributeNames() and str(_node_get(node, \"value\")).startswith(\"cuda\"):\n",
      "                    node.copyAttributes(device_node)\n",
      "\n",
      "    model.apply(patch_device)\n",
      "    patch_device(model.encode_image)\n",
      "    patch_device(model.encode_text)\n",
      "\n",
      "    # patch dtype to float32 on CPU\n",
      "    if str(device) == \"cpu\":\n",
      "        float_holder = torch.jit.trace(lambda: torch.ones([]).float(), example_inputs=[])\n",
      "        float_input = list(float_holder.graph.findNode(\"aten::to\").inputs())[1]\n",
      "        float_node = float_input.node()\n",
      "\n",
      "        def patch_float(module):\n",
      "            try:\n",
      "                graphs = [module.graph] if hasattr(module, \"graph\") else []\n",
      "            except RuntimeError:\n",
      "                graphs = []\n",
      "\n",
      "            if hasattr(module, \"forward1\"):\n",
      "                graphs.append(module.forward1.graph)\n",
      "\n",
      "            for graph in graphs:\n",
      "                for node in graph.findAllNodes(\"aten::to\"):\n",
      "                    inputs = list(node.inputs())\n",
      "                    for i in [1, 2]:  # dtype can be the second or third argument to aten::to()\n",
      "                        if _node_get(inputs[i].node(), \"value\") == 5:\n",
      "                            inputs[i].node().copyAttributes(float_node)\n",
      "\n",
      "        model.apply(patch_float)\n",
      "        patch_float(model.encode_image)\n",
      "        patch_float(model.encode_text)\n",
      "\n",
      "        model.float()\n",
      "\n",
      "    return model, _transform(model.input_resolution.item())\n",
      "\n"
     ]
    }
   ],
   "source": [
    "print(inspect.getsource(clip.load))"
   ]
  },
  {
   "cell_type": "markdown",
   "id": "9dcab593-611b-4f5c-85a6-e3b34cff0259",
   "metadata": {
    "jp-MarkdownHeadingCollapsed": true
   },
   "source": [
    "### What's in the model?"
   ]
  },
  {
   "cell_type": "code",
   "execution_count": 10,
   "id": "45aaae4e-cb57-4e32-b161-9236c0a28aad",
   "metadata": {},
   "outputs": [
    {
     "data": {
      "text/plain": [
       "VisionTransformer(\n",
       "  (conv1): Conv2d(3, 768, kernel_size=(32, 32), stride=(32, 32), bias=False)\n",
       "  (ln_pre): LayerNorm((768,), eps=1e-05, elementwise_affine=True)\n",
       "  (transformer): Transformer(\n",
       "    (resblocks): Sequential(\n",
       "      (0): ResidualAttentionBlock(\n",
       "        (attn): MultiheadAttention(\n",
       "          (out_proj): NonDynamicallyQuantizableLinear(in_features=768, out_features=768, bias=True)\n",
       "        )\n",
       "        (ln_1): LayerNorm((768,), eps=1e-05, elementwise_affine=True)\n",
       "        (mlp): Sequential(\n",
       "          (c_fc): Linear(in_features=768, out_features=3072, bias=True)\n",
       "          (gelu): QuickGELU()\n",
       "          (c_proj): Linear(in_features=3072, out_features=768, bias=True)\n",
       "        )\n",
       "        (ln_2): LayerNorm((768,), eps=1e-05, elementwise_affine=True)\n",
       "      )\n",
       "      (1): ResidualAttentionBlock(\n",
       "        (attn): MultiheadAttention(\n",
       "          (out_proj): NonDynamicallyQuantizableLinear(in_features=768, out_features=768, bias=True)\n",
       "        )\n",
       "        (ln_1): LayerNorm((768,), eps=1e-05, elementwise_affine=True)\n",
       "        (mlp): Sequential(\n",
       "          (c_fc): Linear(in_features=768, out_features=3072, bias=True)\n",
       "          (gelu): QuickGELU()\n",
       "          (c_proj): Linear(in_features=3072, out_features=768, bias=True)\n",
       "        )\n",
       "        (ln_2): LayerNorm((768,), eps=1e-05, elementwise_affine=True)\n",
       "      )\n",
       "      (2): ResidualAttentionBlock(\n",
       "        (attn): MultiheadAttention(\n",
       "          (out_proj): NonDynamicallyQuantizableLinear(in_features=768, out_features=768, bias=True)\n",
       "        )\n",
       "        (ln_1): LayerNorm((768,), eps=1e-05, elementwise_affine=True)\n",
       "        (mlp): Sequential(\n",
       "          (c_fc): Linear(in_features=768, out_features=3072, bias=True)\n",
       "          (gelu): QuickGELU()\n",
       "          (c_proj): Linear(in_features=3072, out_features=768, bias=True)\n",
       "        )\n",
       "        (ln_2): LayerNorm((768,), eps=1e-05, elementwise_affine=True)\n",
       "      )\n",
       "      (3): ResidualAttentionBlock(\n",
       "        (attn): MultiheadAttention(\n",
       "          (out_proj): NonDynamicallyQuantizableLinear(in_features=768, out_features=768, bias=True)\n",
       "        )\n",
       "        (ln_1): LayerNorm((768,), eps=1e-05, elementwise_affine=True)\n",
       "        (mlp): Sequential(\n",
       "          (c_fc): Linear(in_features=768, out_features=3072, bias=True)\n",
       "          (gelu): QuickGELU()\n",
       "          (c_proj): Linear(in_features=3072, out_features=768, bias=True)\n",
       "        )\n",
       "        (ln_2): LayerNorm((768,), eps=1e-05, elementwise_affine=True)\n",
       "      )\n",
       "      (4): ResidualAttentionBlock(\n",
       "        (attn): MultiheadAttention(\n",
       "          (out_proj): NonDynamicallyQuantizableLinear(in_features=768, out_features=768, bias=True)\n",
       "        )\n",
       "        (ln_1): LayerNorm((768,), eps=1e-05, elementwise_affine=True)\n",
       "        (mlp): Sequential(\n",
       "          (c_fc): Linear(in_features=768, out_features=3072, bias=True)\n",
       "          (gelu): QuickGELU()\n",
       "          (c_proj): Linear(in_features=3072, out_features=768, bias=True)\n",
       "        )\n",
       "        (ln_2): LayerNorm((768,), eps=1e-05, elementwise_affine=True)\n",
       "      )\n",
       "      (5): ResidualAttentionBlock(\n",
       "        (attn): MultiheadAttention(\n",
       "          (out_proj): NonDynamicallyQuantizableLinear(in_features=768, out_features=768, bias=True)\n",
       "        )\n",
       "        (ln_1): LayerNorm((768,), eps=1e-05, elementwise_affine=True)\n",
       "        (mlp): Sequential(\n",
       "          (c_fc): Linear(in_features=768, out_features=3072, bias=True)\n",
       "          (gelu): QuickGELU()\n",
       "          (c_proj): Linear(in_features=3072, out_features=768, bias=True)\n",
       "        )\n",
       "        (ln_2): LayerNorm((768,), eps=1e-05, elementwise_affine=True)\n",
       "      )\n",
       "      (6): ResidualAttentionBlock(\n",
       "        (attn): MultiheadAttention(\n",
       "          (out_proj): NonDynamicallyQuantizableLinear(in_features=768, out_features=768, bias=True)\n",
       "        )\n",
       "        (ln_1): LayerNorm((768,), eps=1e-05, elementwise_affine=True)\n",
       "        (mlp): Sequential(\n",
       "          (c_fc): Linear(in_features=768, out_features=3072, bias=True)\n",
       "          (gelu): QuickGELU()\n",
       "          (c_proj): Linear(in_features=3072, out_features=768, bias=True)\n",
       "        )\n",
       "        (ln_2): LayerNorm((768,), eps=1e-05, elementwise_affine=True)\n",
       "      )\n",
       "      (7): ResidualAttentionBlock(\n",
       "        (attn): MultiheadAttention(\n",
       "          (out_proj): NonDynamicallyQuantizableLinear(in_features=768, out_features=768, bias=True)\n",
       "        )\n",
       "        (ln_1): LayerNorm((768,), eps=1e-05, elementwise_affine=True)\n",
       "        (mlp): Sequential(\n",
       "          (c_fc): Linear(in_features=768, out_features=3072, bias=True)\n",
       "          (gelu): QuickGELU()\n",
       "          (c_proj): Linear(in_features=3072, out_features=768, bias=True)\n",
       "        )\n",
       "        (ln_2): LayerNorm((768,), eps=1e-05, elementwise_affine=True)\n",
       "      )\n",
       "      (8): ResidualAttentionBlock(\n",
       "        (attn): MultiheadAttention(\n",
       "          (out_proj): NonDynamicallyQuantizableLinear(in_features=768, out_features=768, bias=True)\n",
       "        )\n",
       "        (ln_1): LayerNorm((768,), eps=1e-05, elementwise_affine=True)\n",
       "        (mlp): Sequential(\n",
       "          (c_fc): Linear(in_features=768, out_features=3072, bias=True)\n",
       "          (gelu): QuickGELU()\n",
       "          (c_proj): Linear(in_features=3072, out_features=768, bias=True)\n",
       "        )\n",
       "        (ln_2): LayerNorm((768,), eps=1e-05, elementwise_affine=True)\n",
       "      )\n",
       "      (9): ResidualAttentionBlock(\n",
       "        (attn): MultiheadAttention(\n",
       "          (out_proj): NonDynamicallyQuantizableLinear(in_features=768, out_features=768, bias=True)\n",
       "        )\n",
       "        (ln_1): LayerNorm((768,), eps=1e-05, elementwise_affine=True)\n",
       "        (mlp): Sequential(\n",
       "          (c_fc): Linear(in_features=768, out_features=3072, bias=True)\n",
       "          (gelu): QuickGELU()\n",
       "          (c_proj): Linear(in_features=3072, out_features=768, bias=True)\n",
       "        )\n",
       "        (ln_2): LayerNorm((768,), eps=1e-05, elementwise_affine=True)\n",
       "      )\n",
       "      (10): ResidualAttentionBlock(\n",
       "        (attn): MultiheadAttention(\n",
       "          (out_proj): NonDynamicallyQuantizableLinear(in_features=768, out_features=768, bias=True)\n",
       "        )\n",
       "        (ln_1): LayerNorm((768,), eps=1e-05, elementwise_affine=True)\n",
       "        (mlp): Sequential(\n",
       "          (c_fc): Linear(in_features=768, out_features=3072, bias=True)\n",
       "          (gelu): QuickGELU()\n",
       "          (c_proj): Linear(in_features=3072, out_features=768, bias=True)\n",
       "        )\n",
       "        (ln_2): LayerNorm((768,), eps=1e-05, elementwise_affine=True)\n",
       "      )\n",
       "      (11): ResidualAttentionBlock(\n",
       "        (attn): MultiheadAttention(\n",
       "          (out_proj): NonDynamicallyQuantizableLinear(in_features=768, out_features=768, bias=True)\n",
       "        )\n",
       "        (ln_1): LayerNorm((768,), eps=1e-05, elementwise_affine=True)\n",
       "        (mlp): Sequential(\n",
       "          (c_fc): Linear(in_features=768, out_features=3072, bias=True)\n",
       "          (gelu): QuickGELU()\n",
       "          (c_proj): Linear(in_features=3072, out_features=768, bias=True)\n",
       "        )\n",
       "        (ln_2): LayerNorm((768,), eps=1e-05, elementwise_affine=True)\n",
       "      )\n",
       "    )\n",
       "  )\n",
       "  (ln_post): LayerNorm((768,), eps=1e-05, elementwise_affine=True)\n",
       ")"
      ]
     },
     "execution_count": 10,
     "metadata": {},
     "output_type": "execute_result"
    }
   ],
   "source": [
    "model.visual"
   ]
  },
  {
   "cell_type": "code",
   "execution_count": 11,
   "id": "855b04d6-3b88-452e-b422-7b3de7673912",
   "metadata": {},
   "outputs": [
    {
     "data": {
      "text/plain": [
       "Transformer(\n",
       "  (resblocks): Sequential(\n",
       "    (0): ResidualAttentionBlock(\n",
       "      (attn): MultiheadAttention(\n",
       "        (out_proj): NonDynamicallyQuantizableLinear(in_features=512, out_features=512, bias=True)\n",
       "      )\n",
       "      (ln_1): LayerNorm((512,), eps=1e-05, elementwise_affine=True)\n",
       "      (mlp): Sequential(\n",
       "        (c_fc): Linear(in_features=512, out_features=2048, bias=True)\n",
       "        (gelu): QuickGELU()\n",
       "        (c_proj): Linear(in_features=2048, out_features=512, bias=True)\n",
       "      )\n",
       "      (ln_2): LayerNorm((512,), eps=1e-05, elementwise_affine=True)\n",
       "    )\n",
       "    (1): ResidualAttentionBlock(\n",
       "      (attn): MultiheadAttention(\n",
       "        (out_proj): NonDynamicallyQuantizableLinear(in_features=512, out_features=512, bias=True)\n",
       "      )\n",
       "      (ln_1): LayerNorm((512,), eps=1e-05, elementwise_affine=True)\n",
       "      (mlp): Sequential(\n",
       "        (c_fc): Linear(in_features=512, out_features=2048, bias=True)\n",
       "        (gelu): QuickGELU()\n",
       "        (c_proj): Linear(in_features=2048, out_features=512, bias=True)\n",
       "      )\n",
       "      (ln_2): LayerNorm((512,), eps=1e-05, elementwise_affine=True)\n",
       "    )\n",
       "    (2): ResidualAttentionBlock(\n",
       "      (attn): MultiheadAttention(\n",
       "        (out_proj): NonDynamicallyQuantizableLinear(in_features=512, out_features=512, bias=True)\n",
       "      )\n",
       "      (ln_1): LayerNorm((512,), eps=1e-05, elementwise_affine=True)\n",
       "      (mlp): Sequential(\n",
       "        (c_fc): Linear(in_features=512, out_features=2048, bias=True)\n",
       "        (gelu): QuickGELU()\n",
       "        (c_proj): Linear(in_features=2048, out_features=512, bias=True)\n",
       "      )\n",
       "      (ln_2): LayerNorm((512,), eps=1e-05, elementwise_affine=True)\n",
       "    )\n",
       "    (3): ResidualAttentionBlock(\n",
       "      (attn): MultiheadAttention(\n",
       "        (out_proj): NonDynamicallyQuantizableLinear(in_features=512, out_features=512, bias=True)\n",
       "      )\n",
       "      (ln_1): LayerNorm((512,), eps=1e-05, elementwise_affine=True)\n",
       "      (mlp): Sequential(\n",
       "        (c_fc): Linear(in_features=512, out_features=2048, bias=True)\n",
       "        (gelu): QuickGELU()\n",
       "        (c_proj): Linear(in_features=2048, out_features=512, bias=True)\n",
       "      )\n",
       "      (ln_2): LayerNorm((512,), eps=1e-05, elementwise_affine=True)\n",
       "    )\n",
       "    (4): ResidualAttentionBlock(\n",
       "      (attn): MultiheadAttention(\n",
       "        (out_proj): NonDynamicallyQuantizableLinear(in_features=512, out_features=512, bias=True)\n",
       "      )\n",
       "      (ln_1): LayerNorm((512,), eps=1e-05, elementwise_affine=True)\n",
       "      (mlp): Sequential(\n",
       "        (c_fc): Linear(in_features=512, out_features=2048, bias=True)\n",
       "        (gelu): QuickGELU()\n",
       "        (c_proj): Linear(in_features=2048, out_features=512, bias=True)\n",
       "      )\n",
       "      (ln_2): LayerNorm((512,), eps=1e-05, elementwise_affine=True)\n",
       "    )\n",
       "    (5): ResidualAttentionBlock(\n",
       "      (attn): MultiheadAttention(\n",
       "        (out_proj): NonDynamicallyQuantizableLinear(in_features=512, out_features=512, bias=True)\n",
       "      )\n",
       "      (ln_1): LayerNorm((512,), eps=1e-05, elementwise_affine=True)\n",
       "      (mlp): Sequential(\n",
       "        (c_fc): Linear(in_features=512, out_features=2048, bias=True)\n",
       "        (gelu): QuickGELU()\n",
       "        (c_proj): Linear(in_features=2048, out_features=512, bias=True)\n",
       "      )\n",
       "      (ln_2): LayerNorm((512,), eps=1e-05, elementwise_affine=True)\n",
       "    )\n",
       "    (6): ResidualAttentionBlock(\n",
       "      (attn): MultiheadAttention(\n",
       "        (out_proj): NonDynamicallyQuantizableLinear(in_features=512, out_features=512, bias=True)\n",
       "      )\n",
       "      (ln_1): LayerNorm((512,), eps=1e-05, elementwise_affine=True)\n",
       "      (mlp): Sequential(\n",
       "        (c_fc): Linear(in_features=512, out_features=2048, bias=True)\n",
       "        (gelu): QuickGELU()\n",
       "        (c_proj): Linear(in_features=2048, out_features=512, bias=True)\n",
       "      )\n",
       "      (ln_2): LayerNorm((512,), eps=1e-05, elementwise_affine=True)\n",
       "    )\n",
       "    (7): ResidualAttentionBlock(\n",
       "      (attn): MultiheadAttention(\n",
       "        (out_proj): NonDynamicallyQuantizableLinear(in_features=512, out_features=512, bias=True)\n",
       "      )\n",
       "      (ln_1): LayerNorm((512,), eps=1e-05, elementwise_affine=True)\n",
       "      (mlp): Sequential(\n",
       "        (c_fc): Linear(in_features=512, out_features=2048, bias=True)\n",
       "        (gelu): QuickGELU()\n",
       "        (c_proj): Linear(in_features=2048, out_features=512, bias=True)\n",
       "      )\n",
       "      (ln_2): LayerNorm((512,), eps=1e-05, elementwise_affine=True)\n",
       "    )\n",
       "    (8): ResidualAttentionBlock(\n",
       "      (attn): MultiheadAttention(\n",
       "        (out_proj): NonDynamicallyQuantizableLinear(in_features=512, out_features=512, bias=True)\n",
       "      )\n",
       "      (ln_1): LayerNorm((512,), eps=1e-05, elementwise_affine=True)\n",
       "      (mlp): Sequential(\n",
       "        (c_fc): Linear(in_features=512, out_features=2048, bias=True)\n",
       "        (gelu): QuickGELU()\n",
       "        (c_proj): Linear(in_features=2048, out_features=512, bias=True)\n",
       "      )\n",
       "      (ln_2): LayerNorm((512,), eps=1e-05, elementwise_affine=True)\n",
       "    )\n",
       "    (9): ResidualAttentionBlock(\n",
       "      (attn): MultiheadAttention(\n",
       "        (out_proj): NonDynamicallyQuantizableLinear(in_features=512, out_features=512, bias=True)\n",
       "      )\n",
       "      (ln_1): LayerNorm((512,), eps=1e-05, elementwise_affine=True)\n",
       "      (mlp): Sequential(\n",
       "        (c_fc): Linear(in_features=512, out_features=2048, bias=True)\n",
       "        (gelu): QuickGELU()\n",
       "        (c_proj): Linear(in_features=2048, out_features=512, bias=True)\n",
       "      )\n",
       "      (ln_2): LayerNorm((512,), eps=1e-05, elementwise_affine=True)\n",
       "    )\n",
       "    (10): ResidualAttentionBlock(\n",
       "      (attn): MultiheadAttention(\n",
       "        (out_proj): NonDynamicallyQuantizableLinear(in_features=512, out_features=512, bias=True)\n",
       "      )\n",
       "      (ln_1): LayerNorm((512,), eps=1e-05, elementwise_affine=True)\n",
       "      (mlp): Sequential(\n",
       "        (c_fc): Linear(in_features=512, out_features=2048, bias=True)\n",
       "        (gelu): QuickGELU()\n",
       "        (c_proj): Linear(in_features=2048, out_features=512, bias=True)\n",
       "      )\n",
       "      (ln_2): LayerNorm((512,), eps=1e-05, elementwise_affine=True)\n",
       "    )\n",
       "    (11): ResidualAttentionBlock(\n",
       "      (attn): MultiheadAttention(\n",
       "        (out_proj): NonDynamicallyQuantizableLinear(in_features=512, out_features=512, bias=True)\n",
       "      )\n",
       "      (ln_1): LayerNorm((512,), eps=1e-05, elementwise_affine=True)\n",
       "      (mlp): Sequential(\n",
       "        (c_fc): Linear(in_features=512, out_features=2048, bias=True)\n",
       "        (gelu): QuickGELU()\n",
       "        (c_proj): Linear(in_features=2048, out_features=512, bias=True)\n",
       "      )\n",
       "      (ln_2): LayerNorm((512,), eps=1e-05, elementwise_affine=True)\n",
       "    )\n",
       "  )\n",
       ")"
      ]
     },
     "execution_count": 11,
     "metadata": {},
     "output_type": "execute_result"
    }
   ],
   "source": [
    "model.transformer"
   ]
  },
  {
   "cell_type": "markdown",
   "id": "3cfacd0f-1e62-46f8-8ee8-0086b6a87ce7",
   "metadata": {
    "jp-MarkdownHeadingCollapsed": true
   },
   "source": [
    "### What's in the preprocessor"
   ]
  },
  {
   "cell_type": "code",
   "execution_count": 16,
   "id": "3fec1eb7-f66b-4ef2-b3f0-7e837ce23f96",
   "metadata": {},
   "outputs": [
    {
     "data": {
      "text/plain": [
       "Compose(\n",
       "    Resize(size=224, interpolation=bicubic, max_size=None, antialias=True)\n",
       "    CenterCrop(size=(224, 224))\n",
       "    <function _convert_image_to_rgb at 0x30b7e62a0>\n",
       "    ToTensor()\n",
       "    Normalize(mean=(0.48145466, 0.4578275, 0.40821073), std=(0.26862954, 0.26130258, 0.27577711))\n",
       ")"
      ]
     },
     "execution_count": 16,
     "metadata": {},
     "output_type": "execute_result"
    }
   ],
   "source": [
    "preprocessor"
   ]
  },
  {
   "cell_type": "markdown",
   "id": "e8a734c4-8002-469f-92b7-228b66fe5002",
   "metadata": {},
   "source": [
    "### Dtype, sizes, etc."
   ]
  },
  {
   "cell_type": "code",
   "execution_count": 14,
   "id": "06b81c72-2053-49f6-be62-bb87155eb405",
   "metadata": {},
   "outputs": [
    {
     "data": {
      "text/plain": [
       "torch.float32"
      ]
     },
     "execution_count": 14,
     "metadata": {},
     "output_type": "execute_result"
    }
   ],
   "source": [
    "model.dtype"
   ]
  },
  {
   "cell_type": "code",
   "execution_count": 29,
   "id": "77c9454e-dcd4-4d16-bde9-a003b1928648",
   "metadata": {},
   "outputs": [
    {
     "name": "stdout",
     "output_type": "stream",
     "text": [
      "number of parameters 151277313\n",
      "number of parameters in millions 151.277313\n"
     ]
    }
   ],
   "source": [
    "size = 0\n",
    "for param in model.parameters():\n",
    "    size += param.numel()\n",
    "print(\"number of parameters\", size)\n",
    "print(\"number of parameters in millions {}\".format(size/1e6))"
   ]
  },
  {
   "cell_type": "code",
   "execution_count": 32,
   "id": "694dc377-93e6-4834-bea7-0660e8ef21ac",
   "metadata": {},
   "outputs": [
    {
     "data": {
      "text/plain": [
       "224"
      ]
     },
     "execution_count": 32,
     "metadata": {},
     "output_type": "execute_result"
    }
   ],
   "source": [
    "model.visual.input_resolution"
   ]
  },
  {
   "cell_type": "markdown",
   "id": "c22d9d8c-1eb2-4cce-89ee-c00c03a422e9",
   "metadata": {
    "jp-MarkdownHeadingCollapsed": true
   },
   "source": [
    "## Process an Image"
   ]
  },
  {
   "cell_type": "code",
   "execution_count": 37,
   "id": "d6164115-2312-40f6-bd55-cb5952a1650c",
   "metadata": {},
   "outputs": [],
   "source": [
    "image_path = \"cow.jpg\""
   ]
  },
  {
   "cell_type": "code",
   "execution_count": 38,
   "id": "552ca446-3d42-4f99-9f16-81eb333d3522",
   "metadata": {},
   "outputs": [],
   "source": [
    "image = Image.open(image_path).convert(\"RGB\")"
   ]
  },
  {
   "cell_type": "code",
   "execution_count": 39,
   "id": "4aed2978-6226-4eb9-8815-2c9921cab78f",
   "metadata": {},
   "outputs": [
    {
     "data": {
      "image/png": "[encoded data removed]",
      "text/plain": [
       "<Figure size 640x480 with 1 Axes>"
      ]
     },
     "metadata": {},
     "output_type": "display_data"
    }
   ],
   "source": [
    "plt.imshow(image)\n",
    "plt.show()"
   ]
  },
  {
   "cell_type": "markdown",
   "id": "8ce27f72-a4ca-4154-978b-e7557e3f7fe0",
   "metadata": {},
   "source": [
    "### Step 1. Preprocess the image"
   ]
  },
  {
   "cell_type": "code",
   "execution_count": 41,
   "id": "c73668ca-0b57-4a6b-9915-1d108451cf97",
   "metadata": {},
   "outputs": [],
   "source": [
    "image_tensor = preprocessor(image)"
   ]
  },
  {
   "cell_type": "code",
   "execution_count": 42,
   "id": "65172d2a-08af-4664-8124-32a4249c6d1f",
   "metadata": {},
   "outputs": [
    {
     "data": {
      "text/plain": [
       "torch.Size([3, 224, 224])"
      ]
     },
     "execution_count": 42,
     "metadata": {},
     "output_type": "execute_result"
    }
   ],
   "source": [
    "image_tensor.shape"
   ]
  },
  {
   "cell_type": "markdown",
   "id": "f07ebaee-f469-4dc8-8bcd-1a7a851bb10a",
   "metadata": {},
   "source": [
    "### Step 2. Compute image features"
   ]
  },
  {
   "cell_type": "code",
   "execution_count": 44,
   "id": "80d776b9-045b-401f-9cd0-9430da0eb62c",
   "metadata": {},
   "outputs": [],
   "source": [
    "image_features = model.encode_image(image_tensor.unsqueeze(0))"
   ]
  },
  {
   "cell_type": "code",
   "execution_count": 49,
   "id": "d2fde8de-7ea2-4868-89af-4929b3147b36",
   "metadata": {},
   "outputs": [
    {
     "data": {
      "text/plain": [
       "torch.Size([1, 512])"
      ]
     },
     "execution_count": 49,
     "metadata": {},
     "output_type": "execute_result"
    }
   ],
   "source": [
    "image_features.shape"
   ]
  },
  {
   "cell_type": "markdown",
   "id": "cb45c753-15bb-4447-b368-9b83e9ad13ad",
   "metadata": {},
   "source": [
    "### What's happening inside?"
   ]
  },
  {
   "cell_type": "code",
   "execution_count": 50,
   "id": "15b8ef74-e5e7-438a-a309-fe1490c834ca",
   "metadata": {},
   "outputs": [],
   "source": [
    "image_features_raw = model.visual(image_tensor.unsqueeze(0))"
   ]
  },
  {
   "cell_type": "code",
   "execution_count": 51,
   "id": "cfdc1a85-6bc6-4f82-a2c9-2e1b4842214d",
   "metadata": {},
   "outputs": [
    {
     "data": {
      "text/plain": [
       "torch.Size([1, 512])"
      ]
     },
     "execution_count": 51,
     "metadata": {},
     "output_type": "execute_result"
    }
   ],
   "source": [
    "image_features_raw.shape"
   ]
  },
  {
   "cell_type": "code",
   "execution_count": 52,
   "id": "10ae210e-b21d-42b5-9221-78c4dcda97f3",
   "metadata": {},
   "outputs": [
    {
     "name": "stdout",
     "output_type": "stream",
     "text": [
      "    def encode_image(self, image):\n",
      "        return self.visual(image.type(self.dtype))\n",
      "\n"
     ]
    }
   ],
   "source": [
    "print(inspect.getsource(model.encode_image))"
   ]
  },
  {
   "cell_type": "code",
   "execution_count": 54,
   "id": "1747e24d-6d3a-4ef8-81a1-159a29ea9cd4",
   "metadata": {},
   "outputs": [
    {
     "data": {
      "text/plain": [
       "torch.float32"
      ]
     },
     "execution_count": 54,
     "metadata": {},
     "output_type": "execute_result"
    }
   ],
   "source": [
    "model.dtype"
   ]
  },
  {
   "cell_type": "markdown",
   "id": "74f172b3-e003-47e9-a354-4deb70e8b964",
   "metadata": {},
   "source": [
    "## Process some text"
   ]
  },
  {
   "cell_type": "markdown",
   "id": "fd3df7cf-b3f8-4fd1-aae9-d026972ec430",
   "metadata": {
    "jp-MarkdownHeadingCollapsed": true
   },
   "source": [
    "### Let's tokenize"
   ]
  },
  {
   "cell_type": "code",
   "execution_count": 48,
   "id": "4abdcf25-1cb7-4954-a990-b5c63bd33ede",
   "metadata": {},
   "outputs": [],
   "source": [
    "some_classes = [\"a cow\", \"a goat\", \"a dog\"]"
   ]
  },
  {
   "cell_type": "code",
   "execution_count": 57,
   "id": "daca25c0-ded7-4cd1-8282-31be934ab89a",
   "metadata": {},
   "outputs": [],
   "source": [
    "tokens = clip.tokenize(some_classes)"
   ]
  },
  {
   "cell_type": "code",
   "execution_count": 59,
   "id": "eafd506a-06bd-4b45-bc7d-9f22fd7966b4",
   "metadata": {},
   "outputs": [
    {
     "data": {
      "text/plain": [
       "tensor([[49406,   320,  9706, 49407,     0,     0,     0,     0,     0,     0,\n",
       "             0,     0,     0,     0,     0,     0,     0,     0,     0,     0,\n",
       "             0,     0,     0,     0,     0,     0,     0,     0,     0,     0,\n",
       "             0,     0,     0,     0,     0,     0,     0,     0,     0,     0,\n",
       "             0,     0,     0,     0,     0,     0,     0,     0,     0,     0,\n",
       "             0,     0,     0,     0,     0,     0,     0,     0,     0,     0,\n",
       "             0,     0,     0,     0,     0,     0,     0,     0,     0,     0,\n",
       "             0,     0,     0,     0,     0,     0,     0],\n",
       "        [49406,   320,  9530, 49407,     0,     0,     0,     0,     0,     0,\n",
       "             0,     0,     0,     0,     0,     0,     0,     0,     0,     0,\n",
       "             0,     0,     0,     0,     0,     0,     0,     0,     0,     0,\n",
       "             0,     0,     0,     0,     0,     0,     0,     0,     0,     0,\n",
       "             0,     0,     0,     0,     0,     0,     0,     0,     0,     0,\n",
       "             0,     0,     0,     0,     0,     0,     0,     0,     0,     0,\n",
       "             0,     0,     0,     0,     0,     0,     0,     0,     0,     0,\n",
       "             0,     0,     0,     0,     0,     0,     0],\n",
       "        [49406,   320,  1929, 49407,     0,     0,     0,     0,     0,     0,\n",
       "             0,     0,     0,     0,     0,     0,     0,     0,     0,     0,\n",
       "             0,     0,     0,     0,     0,     0,     0,     0,     0,     0,\n",
       "             0,     0,     0,     0,     0,     0,     0,     0,     0,     0,\n",
       "             0,     0,     0,     0,     0,     0,     0,     0,     0,     0,\n",
       "             0,     0,     0,     0,     0,     0,     0,     0,     0,     0,\n",
       "             0,     0,     0,     0,     0,     0,     0,     0,     0,     0,\n",
       "             0,     0,     0,     0,     0,     0,     0]], dtype=torch.int32)"
      ]
     },
     "execution_count": 59,
     "metadata": {},
     "output_type": "execute_result"
    }
   ],
   "source": [
    "tokens"
   ]
  },
  {
   "cell_type": "markdown",
   "id": "3e5a20b0-37b3-4ea3-8758-b00224d0c13b",
   "metadata": {
    "jp-MarkdownHeadingCollapsed": true
   },
   "source": [
    "### How did we tokenize?"
   ]
  },
  {
   "cell_type": "code",
   "execution_count": 61,
   "id": "acde3302-b358-4bce-b7be-9e39fb5ccee9",
   "metadata": {},
   "outputs": [],
   "source": [
    "from clip.simple_tokenizer import SimpleTokenizer"
   ]
  },
  {
   "cell_type": "code",
   "execution_count": 62,
   "id": "13ff5a6b-151b-4a00-8c95-9fb5cbf502bc",
   "metadata": {},
   "outputs": [
    {
     "name": "stdout",
     "output_type": "stream",
     "text": [
      "    def __init__(self, bpe_path: str = default_bpe()):\n",
      "        self.byte_encoder = bytes_to_unicode()\n",
      "        self.byte_decoder = {v: k for k, v in self.byte_encoder.items()}\n",
      "        merges = gzip.open(bpe_path).read().decode(\"utf-8\").split('\\n')\n",
      "        merges = merges[1:49152-256-2+1]\n",
      "        merges = [tuple(merge.split()) for merge in merges]\n",
      "        vocab = list(bytes_to_unicode().values())\n",
      "        vocab = vocab + [v+'</w>' for v in vocab]\n",
      "        for merge in merges:\n",
      "            vocab.append(''.join(merge))\n",
      "        vocab.extend(['<|startoftext|>', '<|endoftext|>'])\n",
      "        self.encoder = dict(zip(vocab, range(len(vocab))))\n",
      "        self.decoder = {v: k for k, v in self.encoder.items()}\n",
      "        self.bpe_ranks = dict(zip(merges, range(len(merges))))\n",
      "        self.cache = {'<|startoftext|>': '<|startoftext|>', '<|endoftext|>': '<|endoftext|>'}\n",
      "        self.pat = re.compile(r\"\"\"<\\|startoftext\\|>|<\\|endoftext\\|>|'s|'t|'re|'ve|'m|'ll|'d|[\\p{L}]+|[\\p{N}]|[^\\s\\p{L}\\p{N}]+\"\"\", re.IGNORECASE)\n",
      "\n"
     ]
    }
   ],
   "source": [
    "print(inspect.getsource(SimpleTokenizer.__init__))"
   ]
  },
  {
   "cell_type": "code",
   "execution_count": 67,
   "id": "af743780-8acd-4555-8fe4-0dd31d79bd44",
   "metadata": {},
   "outputs": [],
   "source": [
    "tokenizer = SimpleTokenizer(os.path.join(clip.__path__[0], \"bpe_simple_vocab_16e6.txt.gz\"))"
   ]
  },
  {
   "cell_type": "code",
   "execution_count": 69,
   "id": "68140487-be42-4a9a-8f20-3c32f5f23235",
   "metadata": {},
   "outputs": [
    {
     "data": {
      "text/plain": [
       "49408"
      ]
     },
     "execution_count": 69,
     "metadata": {},
     "output_type": "execute_result"
    }
   ],
   "source": [
    "len(tokenizer.encoder.keys())"
   ]
  },
  {
   "cell_type": "code",
   "execution_count": 71,
   "id": "3b39a946-9c1e-4169-b68d-bb9840c6fd16",
   "metadata": {},
   "outputs": [
    {
     "name": "stdout",
     "output_type": "stream",
     "text": [
      "['!', '\"', '#', '$', '%', '&', \"'\", '(', ')', '*', '+', ',', '-', '.', '/', '0', '1', '2', '3', '4', '5', '6', '7', '8', '9', ':', ';', '<', '=', '>', '?', '@', 'A', 'B', 'C', 'D', 'E', 'F', 'G', 'H', 'I', 'J', 'K', 'L', 'M', 'N', 'O', 'P', 'Q', 'R']\n"
     ]
    }
   ],
   "source": [
    "print(list(tokenizer.encoder.keys())[:50])"
   ]
  },
  {
   "cell_type": "code",
   "execution_count": 72,
   "id": "142f0600-a98c-4d1c-b5fc-5077f414bede",
   "metadata": {},
   "outputs": [
    {
     "name": "stdout",
     "output_type": "stream",
     "text": [
      "['sel', 'ï¸ı</w>', 'world</w>', 'ves</w>', 'cam', 'got</w>', 'inter', 'off</w>', 'um</w>', 'tonight</w>', 'other</w>', 'hou', 'look</w>', 'je', 'id</w>', 'sion</w>', 'beau', 'att', 'eli', 'ort</w>', 'rec', 'ff', 'ster', 'supp', 'gen', 'been</w>', 'ily</w>', 'team</w>', 'mm', 'ic</w>', 'peop', 'itt', 'ats</w>', 'only</w>', 'mber</w>', 'eng', 'bri', 'mp', 'know</w>', 'bur', 'bar', 'ins</w>', 'low</w>', 'she</w>', 'row</w>', 'âĿ', 'tro', 'people</w>', 'via</w>', 'low']\n"
     ]
    }
   ],
   "source": [
    "print(list(tokenizer.encoder.keys())[1000:1050])"
   ]
  },
  {
   "cell_type": "markdown",
   "id": "9cf70781-90b2-4b85-a8b1-14563b87fecb",
   "metadata": {
    "jp-MarkdownHeadingCollapsed": true
   },
   "source": [
    "### Let's encode the tokens now."
   ]
  },
  {
   "cell_type": "code",
   "execution_count": 74,
   "id": "8723b35b-ad49-4d47-8aa2-d827d97f02f3",
   "metadata": {},
   "outputs": [],
   "source": [
    "text_features = model.encode_text(tokens)"
   ]
  },
  {
   "cell_type": "code",
   "execution_count": 76,
   "id": "493c2f26-42a1-4cdd-b014-4325650f9df1",
   "metadata": {},
   "outputs": [
    {
     "data": {
      "text/plain": [
       "torch.Size([3, 512])"
      ]
     },
     "execution_count": 76,
     "metadata": {},
     "output_type": "execute_result"
    }
   ],
   "source": [
    "text_features.shape"
   ]
  },
  {
   "cell_type": "markdown",
   "id": "05c1e8c8-944e-4721-a523-404c94d863fd",
   "metadata": {
    "jp-MarkdownHeadingCollapsed": true
   },
   "source": [
    "### And how did that work?"
   ]
  },
  {
   "cell_type": "code",
   "execution_count": 78,
   "id": "693b0c52-7a97-4d44-889d-d2ac762961ec",
   "metadata": {},
   "outputs": [
    {
     "name": "stdout",
     "output_type": "stream",
     "text": [
      "    def encode_text(self, text):\n",
      "        x = self.token_embedding(text).type(self.dtype)  # [batch_size, n_ctx, d_model]\n",
      "\n",
      "        x = x + self.positional_embedding.type(self.dtype)\n",
      "        x = x.permute(1, 0, 2)  # NLD -> LND\n",
      "        x = self.transformer(x)\n",
      "        x = x.permute(1, 0, 2)  # LND -> NLD\n",
      "        x = self.ln_final(x).type(self.dtype)\n",
      "\n",
      "        # x.shape = [batch_size, n_ctx, transformer.width]\n",
      "        # take features from the eot embedding (eot_token is the highest number in each sequence)\n",
      "        x = x[torch.arange(x.shape[0]), text.argmax(dim=-1)] @ self.text_projection\n",
      "\n",
      "        return x\n",
      "\n"
     ]
    }
   ],
   "source": [
    "print(inspect.getsource(model.encode_text))"
   ]
  },
  {
   "cell_type": "markdown",
   "id": "389156e7-62cc-4605-bad9-4a4c8ab0f008",
   "metadata": {
    "jp-MarkdownHeadingCollapsed": true
   },
   "source": [
    "### What's in the embedding?"
   ]
  },
  {
   "cell_type": "code",
   "execution_count": 81,
   "id": "d053acb3-924a-431f-a840-4b93098e6f2e",
   "metadata": {},
   "outputs": [
    {
     "data": {
      "text/plain": [
       "Embedding(49408, 512)"
      ]
     },
     "execution_count": 81,
     "metadata": {},
     "output_type": "execute_result"
    }
   ],
   "source": [
    "model.token_embedding"
   ]
  },
  {
   "cell_type": "code",
   "execution_count": 84,
   "id": "987d4853-c130-497b-b0a2-cd113569c21b",
   "metadata": {},
   "outputs": [
    {
     "name": "stdout",
     "output_type": "stream",
     "text": [
      "    def __init__(\n",
      "        self,\n",
      "        num_embeddings: int,\n",
      "        embedding_dim: int,\n",
      "        padding_idx: Optional[int] = None,\n",
      "        max_norm: Optional[float] = None,\n",
      "        norm_type: float = 2.0,\n",
      "        scale_grad_by_freq: bool = False,\n",
      "        sparse: bool = False,\n",
      "        _weight: Optional[Tensor] = None,\n",
      "        _freeze: bool = False,\n",
      "        device=None,\n",
      "        dtype=None,\n",
      "    ) -> None:\n",
      "        factory_kwargs = {\"device\": device, \"dtype\": dtype}\n",
      "        super().__init__()\n",
      "        self.num_embeddings = num_embeddings\n",
      "        self.embedding_dim = embedding_dim\n",
      "        if padding_idx is not None:\n",
      "            if padding_idx > 0:\n",
      "                assert (\n",
      "                    padding_idx < self.num_embeddings\n",
      "                ), \"Padding_idx must be within num_embeddings\"\n",
      "            elif padding_idx < 0:\n",
      "                assert (\n",
      "                    padding_idx >= -self.num_embeddings\n",
      "                ), \"Padding_idx must be within num_embeddings\"\n",
      "                padding_idx = self.num_embeddings + padding_idx\n",
      "        self.padding_idx = padding_idx\n",
      "        self.max_norm = max_norm\n",
      "        self.norm_type = norm_type\n",
      "        self.scale_grad_by_freq = scale_grad_by_freq\n",
      "        if _weight is None:\n",
      "            self.weight = Parameter(\n",
      "                torch.empty((num_embeddings, embedding_dim), **factory_kwargs),\n",
      "                requires_grad=not _freeze,\n",
      "            )\n",
      "            self.reset_parameters()\n",
      "        else:\n",
      "            assert list(_weight.shape) == [\n",
      "                num_embeddings,\n",
      "                embedding_dim,\n",
      "            ], \"Shape of weight does not match num_embeddings and embedding_dim\"\n",
      "            self.weight = Parameter(_weight, requires_grad=not _freeze)\n",
      "\n",
      "        self.sparse = sparse\n",
      "\n"
     ]
    }
   ],
   "source": [
    "print(inspect.getsource(torch.nn.Embedding.__init__))"
   ]
  },
  {
   "cell_type": "code",
   "execution_count": 89,
   "id": "041693e3-6afa-41ad-8086-de6d6cf45467",
   "metadata": {},
   "outputs": [
    {
     "name": "stdout",
     "output_type": "stream",
     "text": [
      "def embedding(\n",
      "    input: Tensor,\n",
      "    weight: Tensor,\n",
      "    padding_idx: Optional[int] = None,\n",
      "    max_norm: Optional[float] = None,\n",
      "    norm_type: float = 2.0,\n",
      "    scale_grad_by_freq: bool = False,\n",
      "    sparse: bool = False,\n",
      ") -> Tensor:\n",
      "    r\"\"\"Generate a simple lookup table that looks up embeddings in a fixed dictionary and size.\n",
      "\n",
      "    This module is often used to retrieve word embeddings using indices.\n",
      "    The input to the module is a list of indices, and the embedding matrix,\n",
      "    and the output is the corresponding word embeddings.\n",
      "\n",
      "    See :class:`torch.nn.Embedding` for more details.\n",
      "\n",
      "    .. note::\n",
      "        Note that the analytical gradients of this function with respect to\n",
      "        entries in :attr:`weight` at the row specified by :attr:`padding_idx`\n",
      "        are expected to differ from the numerical ones.\n",
      "\n",
      "    .. note::\n",
      "        Note that `:class:`torch.nn.Embedding` differs from this function in\n",
      "        that it initializes the row of :attr:`weight` specified by\n",
      "        :attr:`padding_idx` to all zeros on construction.\n",
      "\n",
      "    Args:\n",
      "        input (LongTensor): Tensor containing indices into the embedding matrix\n",
      "        weight (Tensor): The embedding matrix with number of rows equal to the maximum possible index + 1,\n",
      "            and number of columns equal to the embedding size\n",
      "        padding_idx (int, optional): If specified, the entries at :attr:`padding_idx` do not contribute to the gradient;\n",
      "                                     therefore, the embedding vector at :attr:`padding_idx` is not updated during training,\n",
      "                                     i.e. it remains as a fixed \"pad\".\n",
      "        max_norm (float, optional): If given, each embedding vector with norm larger than :attr:`max_norm`\n",
      "                                    is renormalized to have norm :attr:`max_norm`.\n",
      "                                    Note: this will modify :attr:`weight` in-place.\n",
      "        norm_type (float, optional): The p of the p-norm to compute for the :attr:`max_norm` option. Default ``2``.\n",
      "        scale_grad_by_freq (bool, optional): If given, this will scale gradients by the inverse of frequency of\n",
      "                                                the words in the mini-batch. Default ``False``.\n",
      "        sparse (bool, optional): If ``True``, gradient w.r.t. :attr:`weight` will be a sparse tensor. See Notes under\n",
      "                                 :class:`torch.nn.Embedding` for more details regarding sparse gradients.\n",
      "\n",
      "    Shape:\n",
      "        - Input: LongTensor of arbitrary shape containing the indices to extract\n",
      "        - Weight: Embedding matrix of floating point type with shape `(V, embedding_dim)`,\n",
      "          where V = maximum index + 1 and embedding_dim = the embedding size\n",
      "        - Output: `(*, embedding_dim)`, where `*` is the input shape\n",
      "\n",
      "    Examples::\n",
      "\n",
      "        >>> # a batch of 2 samples of 4 indices each\n",
      "        >>> input = torch.tensor([[1, 2, 4, 5], [4, 3, 2, 9]])\n",
      "        >>> # an embedding matrix containing 10 tensors of size 3\n",
      "        >>> embedding_matrix = torch.rand(10, 3)\n",
      "        >>> # xdoctest: +IGNORE_WANT(\"non-deterministic\")\n",
      "        >>> F.embedding(input, embedding_matrix)\n",
      "        tensor([[[ 0.8490,  0.9625,  0.6753],\n",
      "                 [ 0.9666,  0.7761,  0.6108],\n",
      "                 [ 0.6246,  0.9751,  0.3618],\n",
      "                 [ 0.4161,  0.2419,  0.7383]],\n",
      "\n",
      "                [[ 0.6246,  0.9751,  0.3618],\n",
      "                 [ 0.0237,  0.7794,  0.0528],\n",
      "                 [ 0.9666,  0.7761,  0.6108],\n",
      "                 [ 0.3385,  0.8612,  0.1867]]])\n",
      "\n",
      "        >>> # example with padding_idx\n",
      "        >>> weights = torch.rand(10, 3)\n",
      "        >>> weights[0, :].zero_()\n",
      "        >>> embedding_matrix = weights\n",
      "        >>> input = torch.tensor([[0, 2, 0, 5]])\n",
      "        >>> F.embedding(input, embedding_matrix, padding_idx=0)\n",
      "        tensor([[[ 0.0000,  0.0000,  0.0000],\n",
      "                 [ 0.5609,  0.5384,  0.8720],\n",
      "                 [ 0.0000,  0.0000,  0.0000],\n",
      "                 [ 0.6262,  0.2438,  0.7471]]])\n",
      "    \"\"\"\n",
      "    if has_torch_function_variadic(input, weight):\n",
      "        return handle_torch_function(\n",
      "            embedding,\n",
      "            (input, weight),\n",
      "            input,\n",
      "            weight,\n",
      "            padding_idx=padding_idx,\n",
      "            max_norm=max_norm,\n",
      "            norm_type=norm_type,\n",
      "            scale_grad_by_freq=scale_grad_by_freq,\n",
      "            sparse=sparse,\n",
      "        )\n",
      "    if padding_idx is not None:\n",
      "        if padding_idx > 0:\n",
      "            assert padding_idx < weight.size(\n",
      "                0\n",
      "            ), \"Padding_idx must be within num_embeddings\"\n",
      "        elif padding_idx < 0:\n",
      "            assert padding_idx >= -weight.size(\n",
      "                0\n",
      "            ), \"Padding_idx must be within num_embeddings\"\n",
      "            padding_idx = weight.size(0) + padding_idx\n",
      "    else:\n",
      "        padding_idx = -1\n",
      "    if max_norm is not None:\n",
      "        # Note [embedding_renorm contiguous]\n",
      "        # `embedding_renorm_` will call .contiguous() on input anyways, so we\n",
      "        # call it here and take advantage of the improved locality in the\n",
      "        # `embedding` call below too.\n",
      "        input = input.contiguous()\n",
      "        # Note [embedding_renorm set_grad_enabled]\n",
      "        # XXX: equivalent to\n",
      "        # with torch.no_grad():\n",
      "        #   torch.embedding_renorm_\n",
      "        # remove once script supports set_grad_enabled\n",
      "        _no_grad_embedding_renorm_(weight, input, max_norm, norm_type)\n",
      "    return torch.embedding(weight, input, padding_idx, scale_grad_by_freq, sparse)\n",
      "\n"
     ]
    }
   ],
   "source": [
    "print(inspect.getsource(torch.nn.functional.embedding))"
   ]
  },
  {
   "cell_type": "markdown",
   "id": "5296ed54-1943-4b8d-add8-af9a8e275fdc",
   "metadata": {},
   "source": [
    "## Typing the text and image features together... Going multimodal"
   ]
  },
  {
   "cell_type": "markdown",
   "id": "8bf2472d-c5b0-4539-8537-047a27b8eacb",
   "metadata": {},
   "source": [
    "###  How do we measure distance (or similarity)"
   ]
  },
  {
   "cell_type": "code",
   "execution_count": 92,
   "id": "7d4c49bb-549b-40a3-8484-d3d825a9da97",
   "metadata": {},
   "outputs": [],
   "source": [
    "def mean_squared_distance(v1, v2):\n",
    "    return ((v1 - v2)**2).sum()"
   ]
  },
  {
   "cell_type": "code",
   "execution_count": 93,
   "id": "9a3d060b-8eaa-4452-9509-6ed646e42f20",
   "metadata": {},
   "outputs": [],
   "source": [
    "def cosine_distance(v1, v2):\n",
    "    eps = 1e-8\n",
    "    v1 = v1 / (v1.dot(v1).sqrt() + eps)\n",
    "    v2 = v2 / (v2.dot(v2).sqrt() + eps)\n",
    "    return 1 - v1.dot(v2)\n",
    "    "
   ]
  },
  {
   "cell_type": "code",
   "execution_count": 94,
   "id": "1ae5664e-563c-40cc-b1f0-dba59dfec6ea",
   "metadata": {},
   "outputs": [],
   "source": [
    "### Let's see them in action"
   ]
  },
  {
   "cell_type": "code",
   "execution_count": 95,
   "id": "2ada298f-7cc4-459d-8d2c-c4e69a8bb3e6",
   "metadata": {},
   "outputs": [
    {
     "data": {
      "text/plain": [
       "(torch.Size([1, 512]), torch.Size([3, 512]))"
      ]
     },
     "execution_count": 95,
     "metadata": {},
     "output_type": "execute_result"
    }
   ],
   "source": [
    "image_features.shape, text_features.shape"
   ]
  },
  {
   "cell_type": "code",
   "execution_count": 98,
   "id": "a321e101-42f5-4bbe-b4a9-d4950afaf5e6",
   "metadata": {},
   "outputs": [
    {
     "data": {
      "text/plain": [
       "[157.63670349121094, 192.01803588867188, 195.63804626464844]"
      ]
     },
     "execution_count": 98,
     "metadata": {},
     "output_type": "execute_result"
    }
   ],
   "source": [
    "dist_mse = [mean_squared_distance(image_features[0], text_item_features).item() for text_item_features in text_features]\n",
    "dist_mse"
   ]
  },
  {
   "cell_type": "code",
   "execution_count": 101,
   "id": "48a80ada-e4c2-4064-8e8b-152409781989",
   "metadata": {},
   "outputs": [
    {
     "data": {
      "text/plain": [
       "[0.7009309530258179, 0.764248788356781, 0.7900635004043579]"
      ]
     },
     "execution_count": 101,
     "metadata": {},
     "output_type": "execute_result"
    }
   ],
   "source": [
    "dist_cos = [cosine_distance(image_features[0], text_item_features).item() for text_item_features in text_features]\n",
    "dist_cos"
   ]
  },
  {
   "cell_type": "markdown",
   "id": "4cea3659-207e-49b8-9866-b4025ce89a9d",
   "metadata": {},
   "source": [
    "### Finally.. we can classify the image"
   ]
  },
  {
   "cell_type": "code",
   "execution_count": 106,
   "id": "499db3d3-9fba-4ee9-863c-c830d990cfcc",
   "metadata": {},
   "outputs": [
    {
     "data": {
      "text/plain": [
       "'a cow'"
      ]
     },
     "execution_count": 106,
     "metadata": {},
     "output_type": "execute_result"
    }
   ],
   "source": [
    "some_classes[np.argmin(dist_mse)]"
   ]
  },
  {
   "cell_type": "code",
   "execution_count": 107,
   "id": "13308813-2bfb-40dd-a755-1bed9a4f1d42",
   "metadata": {},
   "outputs": [
    {
     "data": {
      "text/plain": [
       "'a cow'"
      ]
     },
     "execution_count": 107,
     "metadata": {},
     "output_type": "execute_result"
    }
   ],
   "source": [
    "some_classes[np.argmin(dist_cos)]"
   ]
  }
 ],
 "metadata": {
  "kernelspec": {
   "display_name": "base",
   "language": "python",
   "name": "base"
  },
  "language_info": {
   "codemirror_mode": {
    "name": "ipython",
    "version": 3
   },
   "file_extension": ".py",
   "mimetype": "text/x-python",
   "name": "python",
   "nbconvert_exporter": "python",
   "pygments_lexer": "ipython3",
   "version": "3.12.1"
  }
 },
 "nbformat": 4,
 "nbformat_minor": 5
}
